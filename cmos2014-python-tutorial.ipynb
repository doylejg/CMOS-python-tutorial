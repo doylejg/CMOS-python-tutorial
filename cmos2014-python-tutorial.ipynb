{
 "metadata": {
  "name": ""
 },
 "nbformat": 3,
 "nbformat_minor": 0,
 "worksheets": [
  {
   "cells": [
    {
     "cell_type": "code",
     "collapsed": false,
     "input": [
      "#Necessary imports\n",
      "import os\n",
      "from netCDF4 import Dataset\n",
      "import numpy as np"
     ],
     "language": "python",
     "metadata": {
      "slideshow": {
       "slide_type": "skip"
      }
     },
     "outputs": [],
     "prompt_number": 20
    },
    {
     "cell_type": "markdown",
     "metadata": {
      "slideshow": {
       "slide_type": "slide"
      }
     },
     "source": [
      "Data handling and visualization using Python\n",
      "=============================================\n",
      "\n",
      "\n",
      "<span id=\"authors\">\n",
      "Oleksandr (Sasha) Huziy, Johnathan Doyle, Martin Deshaies-Jacques\n",
      "<span>\n",
      "\n",
      "CMOS, June 2014\n",
      "\n",
      "<table class=\"logo\">\n",
      "    <tr><td>\n",
      "        <img src=\"files/images/logo_2.png\"/> <img src=\"files/images/crsng.png\"/> <img src=\"files/images/logo_uqam_0.png\"/>\n",
      "    </td></tr>\n",
      "</table>"
     ]
    },
    {
     "cell_type": "markdown",
     "metadata": {
      "slideshow": {
       "slide_type": "slide"
      }
     },
     "source": [
      "Outline part I\n",
      "========\n",
      "\n",
      "* **Python basics**\n",
      "\n",
      "    * Builtin data types\n",
      "    \n",
      "    * Operations on file system, strings and dates\n",
      "    \n",
      "    * Modules, classes and functions\n",
      "\n",
      "\n",
      "* **Libraries for scientific computing**\n",
      "\n",
      "    * NumPy/SciPy\n",
      "\n",
      "\n",
      "\n",
      "* **Handling NetCDF4 files**\n",
      "    \n",
      "    * Netcdf4-python"
     ]
    },
    {
     "cell_type": "markdown",
     "metadata": {
      "slideshow": {
       "slide_type": "slide"
      }
     },
     "source": [
      "Introduction and history\n",
      "=====\n",
      "\n",
      "### Python is an interpreted, strictly typed programming language developed by *Guido Van Rossum*.\n",
      "\n",
      "\n",
      "### It was created in 90s of the previous century and has seen 3 major releases from that time. \n",
      "\n",
      "### There many implementations of Python (in C, Java, Python, ...), CPython implementation is used most widely and we are going to use it during the tutorial.\n",
      "\n",
      "### Talk on Python history by Guido Van Rossum [here](http://www.youtube.com/watch?v=ugqu10JV7dk).\n",
      "\n",
      "\n",
      "\n"
     ]
    },
    {
     "cell_type": "markdown",
     "metadata": {
      "slideshow": {
       "slide_type": "slide"
      }
     },
     "source": [
      "Syntax \n",
      "======="
     ]
    },
    {
     "cell_type": "code",
     "collapsed": false,
     "input": [
      "#Variable decalaration <-This is a comment\n",
      "a = 10; b = \"mama\"; x = None;\n",
      "\n",
      "x = [1,2,4, 5, \"I am a fifth element\"]\n",
      "#looping\n",
      "for el in x:\n",
      "    #Checking conditions\n",
      "    if isinstance(el, int):\n",
      "        print(el ** 2 % 10),\n",
      "    else:\n",
      "        msg = \", but my index is {0}.\"\n",
      "        msg = msg.format(x.index(el))\n",
      "        print(el + msg),\n",
      "\n",
      "#now we are outside of the loop since no identation\n",
      "print \"\\nSomething ...\""
     ],
     "language": "python",
     "metadata": {},
     "outputs": [
      {
       "output_type": "stream",
       "stream": "stdout",
       "text": [
        "1 4 6 5 I am a fifth element, but my index is 4. \n",
        "Something ...\n"
       ]
      }
     ],
     "prompt_number": 178
    },
    {
     "cell_type": "markdown",
     "metadata": {
      "slideshow": {
       "slide_type": "subslide"
      }
     },
     "source": [
      "Syntax \n",
      "======="
     ]
    },
    {
     "cell_type": "code",
     "collapsed": false,
     "input": [
      "#accessing elements of a list\n",
      "x[3], x[-1], x[1:-1]"
     ],
     "language": "python",
     "metadata": {
      "slideshow": {
       "slide_type": "-"
      }
     },
     "outputs": [
      {
       "metadata": {},
       "output_type": "pyout",
       "prompt_number": 179,
       "text": [
        "(5, 'I am a fifth element', [2, 4, 5])"
       ]
      }
     ],
     "prompt_number": 179
    },
    {
     "cell_type": "markdown",
     "metadata": {
      "slideshow": {
       "slide_type": "subslide"
      }
     },
     "source": [
      "##Defining functions"
     ]
    },
    {
     "cell_type": "code",
     "collapsed": false,
     "input": [
      "def myfirst_func(x, name = \"Sasha\"):\n",
      "    \"\"\"\n",
      "    This is the comment describing method \n",
      "    arguments and what it actually does\n",
      "    x - dummy argument that demonstrates \n",
      "    use of positional arguments\n",
      "    name - demonstrates use of keyword arguments\n",
      "    \"\"\"\n",
      "    print \"Hello {0} !!!\".format(name)\n",
      "    return 2, None, x"
     ],
     "language": "python",
     "metadata": {
      "slideshow": {
       "slide_type": "-"
      }
     },
     "outputs": [],
     "prompt_number": 180
    },
    {
     "cell_type": "markdown",
     "metadata": {
      "slideshow": {
       "slide_type": "subslide"
      }
     },
     "source": [
      "##Calling functions"
     ]
    },
    {
     "cell_type": "code",
     "collapsed": false,
     "input": [
      "#Calling the function f\n",
      "myfirst_func(\"anything\", name = \"Oleks\") "
     ],
     "language": "python",
     "metadata": {
      "slideshow": {
       "slide_type": "-"
      }
     },
     "outputs": [
      {
       "output_type": "stream",
       "stream": "stdout",
       "text": [
        "Hello Oleks !!!\n"
       ]
      },
      {
       "metadata": {},
       "output_type": "pyout",
       "prompt_number": 181,
       "text": [
        "(2, None, 'anything')"
       ]
      }
     ],
     "prompt_number": 181
    },
    {
     "cell_type": "markdown",
     "metadata": {
      "slideshow": {
       "slide_type": "subslide"
      }
     },
     "source": [
      "Python basics - code hierarchy\n",
      "==============\n",
      "\n",
      "+ Each python file is a python module, it can contain function and class definitions\n",
      "\n",
      "\n",
      "+ A folder with python files and a file ```__init__.py``` (might be empty file) is called package\n",
      "\n"
     ]
    },
    {
     "cell_type": "markdown",
     "metadata": {
      "slideshow": {
       "slide_type": "subslide"
      }
     },
     "source": [
      "Exercises on basic syntax\n",
      "=====\n",
      "\n",
      "* Create a script `hello.py` in your favourite editor and add `print \"Hello world\"`, save and run it: `python hello.py`\n",
      "\n",
      "\n",
      "* Modify the script making it print squares of odd numbers from 13 to 61 inclusively.\n",
      "\n",
      "\n",
      "* What will this code print to console:\n",
      "\n",
      "\n",
      "<pre class=\"co\">\n",
      "    x = 1 #define a global variable\n",
      "    def my_function(argument = x):\n",
      "        print argument ** 2\n",
      "    #change the value of the global variable\n",
      "    x = 5\n",
      "    my_function() #call the function defined above\n",
      "</pre>"
     ]
    },
    {
     "cell_type": "code",
     "collapsed": false,
     "input": [
      "x = 1 #define a global variable\n",
      "def my_function(argument = x):\n",
      "    print argument ** 2\n",
      "#change the value of the global variable\n",
      "x = 5\n",
      "my_function() #call the function defined above"
     ],
     "language": "python",
     "metadata": {
      "slideshow": {
       "slide_type": "skip"
      }
     },
     "outputs": [
      {
       "output_type": "stream",
       "stream": "stdout",
       "text": [
        "1\n"
       ]
      }
     ],
     "prompt_number": 182
    },
    {
     "cell_type": "markdown",
     "metadata": {
      "slideshow": {
       "slide_type": "slide"
      }
     },
     "source": [
      "Builtin data containers\n",
      "=============\n",
      "##Python provides the following data structures. Which are actually classes with attributes and methods.\n",
      "\n",
      "* `list` (range, *, +, pop, len, accessing list elements, slices, last element, 5 last elements)\n",
      "\n",
      "  \n",
      "* `tuple` (not mutable, methods)\n",
      "\n",
      "\n",
      "* `dict` (accessing elements, keys, size)\n",
      "\n",
      "\n",
      "* `set` (set theoretical operations, cannot have 2 equal elements)\n",
      "\n"
     ]
    },
    {
     "cell_type": "heading",
     "level": 1,
     "metadata": {
      "slideshow": {
       "slide_type": "subslide"
      }
     },
     "source": [
      "Builtin data containers (lists)"
     ]
    },
    {
     "cell_type": "code",
     "collapsed": false,
     "input": [
      "#lists (you can conactenate and sort in place)\n",
      "the_list = [1,2,3,4,5]; other_list = 5 * [6];\n",
      "print the_list + other_list"
     ],
     "language": "python",
     "metadata": {
      "slideshow": {
       "slide_type": "-"
      }
     },
     "outputs": [
      {
       "output_type": "stream",
       "stream": "stdout",
       "text": [
        "[1, 2, 3, 4, 5, 6, 6, 6, 6, 6]\n"
       ]
      }
     ],
     "prompt_number": 183
    },
    {
     "cell_type": "code",
     "collapsed": false,
     "input": [
      "#Test if a number is inside a list\n",
      "print 19 in the_list, 5 in the_list, (6 in the_list and 6 in other_list)"
     ],
     "language": "python",
     "metadata": {
      "slideshow": {
       "slide_type": "-"
      }
     },
     "outputs": [
      {
       "output_type": "stream",
       "stream": "stdout",
       "text": [
        "False True False\n"
       ]
      }
     ],
     "prompt_number": 184
    },
    {
     "cell_type": "heading",
     "level": 1,
     "metadata": {
      "slideshow": {
       "slide_type": "subslide"
      }
     },
     "source": [
      "Builtin data containers (lists)"
     ]
    },
    {
     "cell_type": "code",
     "collapsed": false,
     "input": [
      "#square eleaments of a list\n",
      "#list comprehension\n",
      "print [the_el ** 2 for the_el in the_list] "
     ],
     "language": "python",
     "metadata": {
      "slideshow": {
       "slide_type": "-"
      }
     },
     "outputs": [
      {
       "output_type": "stream",
       "stream": "stdout",
       "text": [
        "[1, 4, 9, 16, 25]\n"
       ]
      }
     ],
     "prompt_number": 185
    },
    {
     "cell_type": "code",
     "collapsed": false,
     "input": [
      "#Generating list or iterable of integers\n",
      "print range(1,20)"
     ],
     "language": "python",
     "metadata": {
      "slideshow": {
       "slide_type": "fragment"
      }
     },
     "outputs": [
      {
       "output_type": "stream",
       "stream": "stdout",
       "text": [
        "[1, 2, 3, 4, 5, 6, 7, 8, 9, 10, 11, 12, 13, 14, 15, 16, 17, 18, 19]\n"
       ]
      }
     ],
     "prompt_number": 186
    },
    {
     "cell_type": "heading",
     "level": 1,
     "metadata": {
      "slideshow": {
       "slide_type": "subslide"
      }
     },
     "source": [
      "Builtin data containers (lists)"
     ]
    },
    {
     "cell_type": "code",
     "collapsed": false,
     "input": [
      "##There are some utility functions that can be applied to lists\n",
      "print sum(the_list), \\\n",
      "      reduce(lambda x, y: x + y, the_list)"
     ],
     "language": "python",
     "metadata": {
      "slideshow": {
       "slide_type": "-"
      }
     },
     "outputs": [
      {
       "output_type": "stream",
       "stream": "stdout",
       "text": [
        "15 15\n"
       ]
      }
     ],
     "prompt_number": 187
    },
    {
     "cell_type": "code",
     "collapsed": false,
     "input": [
      "#loop through several lists at the same time\n",
      "for el1, el2 in zip(the_list, other_list):\n",
      "    print(el1+el2),"
     ],
     "language": "python",
     "metadata": {
      "slideshow": {
       "slide_type": "fragment"
      }
     },
     "outputs": [
      {
       "output_type": "stream",
       "stream": "stdout",
       "text": [
        "7 8 9 10 11\n"
       ]
      }
     ],
     "prompt_number": 188
    },
    {
     "cell_type": "markdown",
     "metadata": {
      "slideshow": {
       "slide_type": "subslide"
      }
     },
     "source": [
      "Builtin data containers (tuples)\n",
      "======"
     ]
    },
    {
     "cell_type": "code",
     "collapsed": false,
     "input": [
      "the_tuple = (1,2,3) #tuple is an immutable list, is hashable\n",
      "print the_tuple[-1]"
     ],
     "language": "python",
     "metadata": {
      "slideshow": {
       "slide_type": "-"
      }
     },
     "outputs": [
      {
       "output_type": "stream",
       "stream": "stdout",
       "text": [
        "3\n"
       ]
      }
     ],
     "prompt_number": 189
    },
    {
     "cell_type": "markdown",
     "metadata": {
      "slideshow": {
       "slide_type": "subslide"
      }
     },
     "source": [
      "Builtin data containers (tuples)\n",
      "======"
     ]
    },
    {
     "cell_type": "code",
     "collapsed": false,
     "input": [
      "#tuples are immutable, e.g:\n",
      "try:\n",
      "    the_tuple[1] = 25\n",
      "except TypeError, te:\n",
      "    print te"
     ],
     "language": "python",
     "metadata": {
      "slideshow": {
       "slide_type": "-"
      }
     },
     "outputs": [
      {
       "output_type": "stream",
       "stream": "stdout",
       "text": [
        "'tuple' object does not support item assignment\n"
       ]
      }
     ],
     "prompt_number": 190
    },
    {
     "cell_type": "markdown",
     "metadata": {
      "slideshow": {
       "slide_type": "subslide"
      }
     },
     "source": [
      "Builtin data containers (dictionary)\n",
      "====="
     ]
    },
    {
     "cell_type": "code",
     "collapsed": false,
     "input": [
      "#dictionary\n",
      "author_to_books = { \n",
      "\"Stephen King\": \n",
      "    [\"Carrie\",\"On writing\",\"Green Mile\"],\n",
      "\n",
      "\"Richard Feynman\": \n",
      "    [\"Lectures on computation\", \n",
      "     \"The pleasure of finding things out\"]\n",
      "}\n",
      "#add elements to a dictionary\n",
      "author_to_books[\"Andrey Kolmogorov\"] = \\\n",
      "        [\"Foundations Of The Theory Of Prob...\"]"
     ],
     "language": "python",
     "metadata": {
      "slideshow": {
       "slide_type": "-"
      }
     },
     "outputs": [],
     "prompt_number": 191
    },
    {
     "cell_type": "markdown",
     "metadata": {
      "slideshow": {
       "slide_type": "subslide"
      }
     },
     "source": [
      "Builtin data containers (dictionary)\n",
      "====="
     ]
    },
    {
     "cell_type": "code",
     "collapsed": false,
     "input": [
      "#print the list of authors\n",
      "print author_to_books.keys()"
     ],
     "language": "python",
     "metadata": {
      "slideshow": {
       "slide_type": "-"
      }
     },
     "outputs": [
      {
       "output_type": "stream",
       "stream": "stdout",
       "text": [
        "['Stephen King', 'Richard Feynman', 'Andrey Kolmogorov']\n"
       ]
      }
     ],
     "prompt_number": 192
    },
    {
     "cell_type": "code",
     "collapsed": false,
     "input": [
      "#Iterate over keys and values\n",
      "for author, book_list in author_to_books.iteritems():\n",
      "    suffix = \"s\" if len(book_list) > 1 else \"\"\n",
      "    print(\"{0} book{1} by {2};\\n\".format(len(book_list), suffix, author)),"
     ],
     "language": "python",
     "metadata": {
      "slideshow": {
       "slide_type": "fragment"
      }
     },
     "outputs": [
      {
       "output_type": "stream",
       "stream": "stdout",
       "text": [
        "3 books by Stephen King;\n",
        "2 books by Richard Feynman;\n",
        "1 book by Andrey Kolmogorov;\n"
       ]
      }
     ],
     "prompt_number": 193
    },
    {
     "cell_type": "markdown",
     "metadata": {
      "slideshow": {
       "slide_type": "subslide"
      }
     },
     "source": [
      "Exercises: builtin containers\n",
      "======"
     ]
    },
    {
     "cell_type": "markdown",
     "metadata": {
      "slideshow": {
       "slide_type": "-"
      }
     },
     "source": [
      "* Find a sum of squares of all odd integers that are smaller than 100 in one line of code (Hint: use list comprehensions)\n",
      "\n",
      "\n",
      "* Find out what does `enumerate` do.\n",
      "\n",
      "\n",
      "* Implement recursive fibonacci function with caching, which given the index of a fibonacci number returns its value."
     ]
    },
    {
     "cell_type": "markdown",
     "metadata": {
      "slideshow": {
       "slide_type": "slide"
      }
     },
     "source": [
      "Modules and classes to operate on\n",
      "==============\n",
      "\n",
      "\n",
      "* File system (```os, shutil, sys```)\n",
      "\n",
      "    * create folder, list folder contents, check if file or folder exists \n",
      "\n",
      "\n",
      "* Strings (+, *, join, split, regular expressions) \n",
      "\n",
      "\n",
      "* Dates (datetime, timedelta, ) "
     ]
    },
    {
     "cell_type": "markdown",
     "metadata": {
      "slideshow": {
       "slide_type": "subslide"
      }
     },
     "source": [
      "#File system"
     ]
    },
    {
     "cell_type": "code",
     "collapsed": false,
     "input": [
      "import os\n",
      "#print current directory\n",
      "print os.getcwd()"
     ],
     "language": "python",
     "metadata": {
      "slideshow": {
       "slide_type": "-"
      }
     },
     "outputs": [
      {
       "output_type": "stream",
       "stream": "stdout",
       "text": [
        "/home/montreal-python/cmos_workdir/CMOS-python-tutorial\n"
       ]
      }
     ],
     "prompt_number": 194
    },
    {
     "cell_type": "markdown",
     "metadata": {
      "slideshow": {
       "slide_type": "subslide"
      }
     },
     "source": [
      "#File system"
     ]
    },
    {
     "cell_type": "code",
     "collapsed": false,
     "input": [
      "#get list of files in the current directory\n",
      "flist = os.listdir(\".\")\n",
      "print flist[:7]"
     ],
     "language": "python",
     "metadata": {
      "slideshow": {
       "slide_type": "-"
      }
     },
     "outputs": [
      {
       "output_type": "stream",
       "stream": "stdout",
       "text": [
        "['default_transition.tpl', 'custom.css', '.git', 'cmos2014-python-tutorial.slides.html', 'slides_config.py', 'images', 'present.sh']\n"
       ]
      }
     ],
     "prompt_number": 195
    },
    {
     "cell_type": "markdown",
     "metadata": {
      "slideshow": {
       "slide_type": "subslide"
      }
     },
     "source": [
      "#File system"
     ]
    },
    {
     "cell_type": "code",
     "collapsed": false,
     "input": [
      "#Check if file exists\n",
      "fname = flist[0]\n",
      "print fname,\":\", os.path.isfile(fname), \\\n",
      "      os.path.isdir(fname),  \\\n",
      "      os.path.islink(fname)"
     ],
     "language": "python",
     "metadata": {
      "slideshow": {
       "slide_type": "-"
      }
     },
     "outputs": [
      {
       "output_type": "stream",
       "stream": "stdout",
       "text": [
        "default_transition.tpl : True False False\n"
       ]
      }
     ],
     "prompt_number": 196
    },
    {
     "cell_type": "markdown",
     "metadata": {
      "slideshow": {
       "slide_type": "fragment"
      }
     },
     "source": [
      "You might also find useful the following modules: `sys, shutil, path` "
     ]
    },
    {
     "cell_type": "markdown",
     "metadata": {
      "slideshow": {
       "slide_type": "subslide"
      }
     },
     "source": [
      "#Strings"
     ]
    },
    {
     "cell_type": "code",
     "collapsed": false,
     "input": [
      "s = \"mama\"\n",
      "#reverse (also works for lists)\n",
      "print s[-1::-1]"
     ],
     "language": "python",
     "metadata": {},
     "outputs": [
      {
       "output_type": "stream",
       "stream": "stdout",
       "text": [
        "amam\n"
       ]
      }
     ],
     "prompt_number": 197
    },
    {
     "cell_type": "code",
     "collapsed": false,
     "input": [
      "#Dynamically changing parts of a string\n",
      "tpl = \"My name is {0}. I am doing my {1}.\\nI am {2} old.\\nWeight is {3:.3f} kg\"\n",
      "print tpl.format(\"Black\", \"PhD\", 25, 80.7823)"
     ],
     "language": "python",
     "metadata": {
      "slideshow": {
       "slide_type": "fragment"
      }
     },
     "outputs": [
      {
       "output_type": "stream",
       "stream": "stdout",
       "text": [
        "My name is Black. I am doing my PhD.\n",
        "I am 25 old.\n",
        "Weight is 80.782 kg\n"
       ]
      }
     ],
     "prompt_number": 198
    },
    {
     "cell_type": "markdown",
     "metadata": {
      "slideshow": {
       "slide_type": "subslide"
      }
     },
     "source": [
      "#Strings"
     ]
    },
    {
     "cell_type": "code",
     "collapsed": false,
     "input": [
      "#Splitting\n",
      "s = \"This,is,a,sentence\"\n",
      "s_list = s.split(\",\")\n",
      "print s_list"
     ],
     "language": "python",
     "metadata": {
      "slideshow": {
       "slide_type": "fragment"
      }
     },
     "outputs": [
      {
       "output_type": "stream",
       "stream": "stdout",
       "text": [
        "['This', 'is', 'a', 'sentence']\n"
       ]
      }
     ],
     "prompt_number": 199
    },
    {
     "cell_type": "code",
     "collapsed": false,
     "input": [
      "#joining a list of strings\n",
      "list_of_fruits = [\"apple\", \"banana\", \"cherry\"]\n",
      "print \"I would like to eat {0}.\".format(\" or \".join(list_of_fruits))"
     ],
     "language": "python",
     "metadata": {
      "slideshow": {
       "slide_type": "fragment"
      }
     },
     "outputs": [
      {
       "output_type": "stream",
       "stream": "stdout",
       "text": [
        "I would like to eat apple or banana or cherry.\n"
       ]
      }
     ],
     "prompt_number": 200
    },
    {
     "cell_type": "markdown",
     "metadata": {
      "slideshow": {
       "slide_type": "subslide"
      }
     },
     "source": [
      "#Strings: regular expressions"
     ]
    },
    {
     "cell_type": "code",
     "collapsed": false,
     "input": [
      "#regular expressions module\n",
      "import re\n",
      "msg = \"Find 192, numbers 278: and -7 and do smth w 89\"\n",
      "groups = re.findall(r\"-?\\d+\", msg)\n",
      "print groups \n",
      "print [float(el) for el in groups] #convert strings to floats"
     ],
     "language": "python",
     "metadata": {
      "slideshow": {
       "slide_type": "-"
      }
     },
     "outputs": [
      {
       "output_type": "stream",
       "stream": "stdout",
       "text": [
        "['192', '278', '-7', '89']\n",
        "[192.0, 278.0, -7.0, 89.0]\n"
       ]
      }
     ],
     "prompt_number": 201
    },
    {
     "cell_type": "code",
     "collapsed": false,
     "input": [
      "#regular expressions module\n",
      "groups = re.findall(r\"-?\\d+/\\d+|-?\\d+\\.\\d+|-?\\.?\\d+|-?\\d+\\.?\", \"Find 192.28940, -2/3 numbers 278: and -7 and .005 w 89,fh.5 -354.\")\n",
      "print groups"
     ],
     "language": "python",
     "metadata": {
      "slideshow": {
       "slide_type": "fragment"
      }
     },
     "outputs": [
      {
       "output_type": "stream",
       "stream": "stdout",
       "text": [
        "['192.28940', '-2/3', '278', '-7', '.005', '89', '.5', '-354']\n"
       ]
      }
     ],
     "prompt_number": 202
    },
    {
     "cell_type": "markdown",
     "metadata": {
      "slideshow": {
       "slide_type": "subslide"
      }
     },
     "source": [
      "# Dates"
     ]
    },
    {
     "cell_type": "code",
     "collapsed": false,
     "input": [
      "#What time is it\n",
      "from datetime import datetime, timedelta\n",
      "d = datetime.now(); print d"
     ],
     "language": "python",
     "metadata": {},
     "outputs": [
      {
       "output_type": "stream",
       "stream": "stdout",
       "text": [
        "2014-02-06 17:26:46.184812\n"
       ]
      }
     ],
     "prompt_number": 203
    },
    {
     "cell_type": "code",
     "collapsed": false,
     "input": [
      "#hours and minutes\n",
      "d.strftime(\"%H:%M\"), d.strftime(\"%Hh%Mmin\")"
     ],
     "language": "python",
     "metadata": {
      "slideshow": {
       "slide_type": "fragment"
      }
     },
     "outputs": [
      {
       "metadata": {},
       "output_type": "pyout",
       "prompt_number": 204,
       "text": [
        "('17:26', '17h26min')"
       ]
      }
     ],
     "prompt_number": 204
    },
    {
     "cell_type": "markdown",
     "metadata": {
      "slideshow": {
       "slide_type": "subslide"
      }
     },
     "source": [
      "# Dates: How long is the workshop?"
     ]
    },
    {
     "cell_type": "code",
     "collapsed": false,
     "input": [
      "start_date = datetime(2013, 12, 17, 9)\n",
      "end_date = datetime(2013, 12, 18, 17)\n",
      "print end_date - start_date"
     ],
     "language": "python",
     "metadata": {
      "slideshow": {
       "slide_type": "-"
      }
     },
     "outputs": [
      {
       "output_type": "stream",
       "stream": "stdout",
       "text": [
        "1 day, 8:00:00\n"
       ]
      }
     ],
     "prompt_number": 205
    },
    {
     "cell_type": "code",
     "collapsed": false,
     "input": [
      "#you can mutiply the interval by an integer\n",
      "print (end_date - start_date) * 2"
     ],
     "language": "python",
     "metadata": {
      "slideshow": {
       "slide_type": "fragment"
      }
     },
     "outputs": [
      {
       "output_type": "stream",
       "stream": "stdout",
       "text": [
        "2 days, 16:00:00\n"
       ]
      }
     ],
     "prompt_number": 206
    },
    {
     "cell_type": "markdown",
     "metadata": {
      "slideshow": {
       "slide_type": "subslide"
      }
     },
     "source": [
      "Exercises: Operations with strings, dates and file system\n",
      "======\n",
      "\n",
      "* Get list of all items in the folders from your `LD_LIBRARY_PATH` environment variable\n",
      "\n",
      "\n",
      "* Write a function that finds all the numbers in a string using `re` module (Note: make sure real numbers are also accounted for. Optionally you can also account for the fractions like 2/3)\n",
      "\n",
      "\n",
      "* Calculate your age in weeks using `timedelta`\n",
      "\n",
      "\n",
      "* Figure out on which day of week you were born (see the `calendar` module), you can have fun by determining on which day of week you'll have your birthday in 2014."
     ]
    },
    {
     "cell_type": "markdown",
     "metadata": {
      "slideshow": {
       "slide_type": "slide"
      }
     },
     "source": [
      "NumPy\n",
      "========\n",
      "The library for fast manipulations with big arrays that fit into memory."
     ]
    },
    {
     "cell_type": "code",
     "collapsed": false,
     "input": [
      "import numpy as np\n",
      "#Creating a numpy array from list\n",
      "np_arr = np.asarray([1,23,4, 3.5,6,7,86, 18.9])\n",
      "print np_arr"
     ],
     "language": "python",
     "metadata": {
      "slideshow": {
       "slide_type": "-"
      }
     },
     "outputs": [
      {
       "output_type": "stream",
       "stream": "stdout",
       "text": [
        "[  1.   23.    4.    3.5   6.    7.   86.   18.9]\n"
       ]
      }
     ],
     "prompt_number": 207
    },
    {
     "cell_type": "markdown",
     "metadata": {
      "slideshow": {
       "slide_type": "subslide"
      }
     },
     "source": [
      "NumPy\n",
      "========"
     ]
    },
    {
     "cell_type": "code",
     "collapsed": false,
     "input": [
      "#Reshape\n",
      "np_arr.shape = (2,4)\n",
      "print np_arr"
     ],
     "language": "python",
     "metadata": {
      "slideshow": {
       "slide_type": "-"
      }
     },
     "outputs": [
      {
       "output_type": "stream",
       "stream": "stdout",
       "text": [
        "[[  1.   23.    4.    3.5]\n",
        " [  6.    7.   86.   18.9]]\n"
       ]
      }
     ],
     "prompt_number": 208
    },
    {
     "cell_type": "code",
     "collapsed": false,
     "input": [
      "#sum along a specified dimension, here \n",
      "print np_arr.sum(axis = 1)"
     ],
     "language": "python",
     "metadata": {
      "slideshow": {
       "slide_type": "fragment"
      }
     },
     "outputs": [
      {
       "output_type": "stream",
       "stream": "stdout",
       "text": [
        "[  31.5  117.9]\n"
       ]
      }
     ],
     "prompt_number": 209
    },
    {
     "cell_type": "markdown",
     "metadata": {
      "slideshow": {
       "slide_type": "subslide"
      }
     },
     "source": [
      "Numpy\n",
      "====="
     ]
    },
    {
     "cell_type": "code",
     "collapsed": false,
     "input": [
      "#create prefilled arrays\n",
      "the_zeros = np.zeros((3,9))\n",
      "the_ones = np.ones((3,9))\n",
      "\n",
      "print the_zeros\n",
      "print 20 * \"-\"\n",
      "print the_ones"
     ],
     "language": "python",
     "metadata": {},
     "outputs": [
      {
       "output_type": "stream",
       "stream": "stdout",
       "text": [
        "[[ 0.  0.  0.  0.  0.  0.  0.  0.  0.]\n",
        " [ 0.  0.  0.  0.  0.  0.  0.  0.  0.]\n",
        " [ 0.  0.  0.  0.  0.  0.  0.  0.  0.]]\n",
        "--------------------\n",
        "[[ 1.  1.  1.  1.  1.  1.  1.  1.  1.]\n",
        " [ 1.  1.  1.  1.  1.  1.  1.  1.  1.]\n",
        " [ 1.  1.  1.  1.  1.  1.  1.  1.  1.]]\n"
       ]
      }
     ],
     "prompt_number": 210
    },
    {
     "cell_type": "markdown",
     "metadata": {
      "slideshow": {
       "slide_type": "subslide"
      }
     },
     "source": [
      "Numpy provides many vectorized functions to efficiently operate on arrays\n",
      "====="
     ]
    },
    {
     "cell_type": "code",
     "collapsed": false,
     "input": [
      "print np.sin(np_arr)"
     ],
     "language": "python",
     "metadata": {},
     "outputs": [
      {
       "output_type": "stream",
       "stream": "stdout",
       "text": [
        "[[ 0.84147098 -0.8462204  -0.7568025  -0.35078323]\n",
        " [-0.2794155   0.6569866  -0.92345845  0.05042269]]\n"
       ]
      }
     ],
     "prompt_number": 211
    },
    {
     "cell_type": "code",
     "collapsed": false,
     "input": [
      "print np.cross([1,0,0], [0,1,0])"
     ],
     "language": "python",
     "metadata": {
      "slideshow": {
       "slide_type": "fragment"
      }
     },
     "outputs": [
      {
       "output_type": "stream",
       "stream": "stdout",
       "text": [
        "[0 0 1]\n"
       ]
      }
     ],
     "prompt_number": 212
    },
    {
     "cell_type": "markdown",
     "metadata": {
      "slideshow": {
       "slide_type": "subslide"
      }
     },
     "source": [
      "Numpy: fancy indexing\n",
      "====="
     ]
    },
    {
     "cell_type": "code",
     "collapsed": false,
     "input": [
      "arr = np.random.randn(3,5)\n",
      "print \"Sum of positive numbers: \", arr[arr > 0].sum()\n",
      "\n",
      "print \"Sum over (-0.1 <= arr <= 0.1): \", \\\n",
      "       arr[(arr >= -0.1) & (arr <= 0.1)].sum()\n",
      "\n",
      "print \"Sum over (-0.1 > arr) or (arr > 0.1): \", \\\n",
      "       arr[(arr < -0.1) | (arr > 0.1)].sum()"
     ],
     "language": "python",
     "metadata": {},
     "outputs": [
      {
       "output_type": "stream",
       "stream": "stdout",
       "text": [
        "Sum of positive numbers:  5.96696465832\n",
        "Sum over (-0.1 <= arr <= 0.1):  0.0346199321718\n",
        "Sum over (-0.1 > arr) or (arr > 0.1):  0.56655430853\n"
       ]
      }
     ],
     "prompt_number": 213
    },
    {
     "cell_type": "markdown",
     "metadata": {
      "slideshow": {
       "slide_type": "subslide"
      }
     },
     "source": [
      "Exercises: Numpy\n",
      "=====\n",
      "\n",
      "* Generate a 10 x 3 array of random numbers (in range \\[0,1\\]). For each row, pick the number closest to 0.5 ([source](http://scipy-lectures.github.io/intro/numpy/exercises.html#crude-integral-approximations)) *Hint:* use `np.argmin`.\n",
      "\n",
      "\n",
      "* Checkout numpy for MATLAB users transition [table](http://wiki.scipy.org/NumPy_for_Matlab_Users)."
     ]
    },
    {
     "cell_type": "code",
     "collapsed": false,
     "input": [
      "arr = np.random.randn(10,3)\n",
      "d = np.abs(arr - 0.5)\n",
      "\n",
      "print arr\n",
      "colinds = np.argmin(d, axis = 1)\n",
      "rowinds = range(arr.shape[0])\n",
      "arr[rowinds, colinds]"
     ],
     "language": "python",
     "metadata": {
      "slideshow": {
       "slide_type": "skip"
      }
     },
     "outputs": [
      {
       "output_type": "stream",
       "stream": "stdout",
       "text": [
        "[[-0.7732006  -0.29395569 -0.16471643]\n",
        " [ 0.34127774 -0.93657583  0.84839323]\n",
        " [ 1.04794604 -0.29463099 -0.42866585]\n",
        " [ 0.93176332  0.08641828 -0.02286678]\n",
        " [-1.84532672 -0.9787515   0.05114024]\n",
        " [-0.25209743 -0.0283653   0.22304515]\n",
        " [ 0.6991687   0.38823076  0.54116425]\n",
        " [-0.91704792  0.05392339 -0.96284726]\n",
        " [-0.12946814  0.25392372 -1.78568639]\n",
        " [-0.39043857  1.20849876 -1.20766913]]\n"
       ]
      },
      {
       "metadata": {},
       "output_type": "pyout",
       "prompt_number": 214,
       "text": [
        "array([-0.16471643,  0.34127774,  1.04794604,  0.08641828,  0.05114024,\n",
        "        0.22304515,  0.54116425,  0.05392339,  0.25392372,  1.20849876])"
       ]
      }
     ],
     "prompt_number": 214
    },
    {
     "cell_type": "markdown",
     "metadata": {
      "slideshow": {
       "slide_type": "subslide"
      }
     },
     "source": [
      "SciPy\n",
      "=======\n",
      "\n",
      "## [Scipy lectures](http://scipy-lectures.github.io/)"
     ]
    },
    {
     "cell_type": "markdown",
     "metadata": {
      "slideshow": {
       "slide_type": "subslide"
      }
     },
     "source": [
      "SciPy packages\n",
      "=======\n",
      "\n",
      "It contains many packages useful for data analysis\n",
      "\n",
      "|Package| Purpose|\n",
      "|:-------:|:----------:|\n",
      "| scipy.cluster   | Vector quantization / Kmeans |\n",
      "| scipy.constants |  Physical and mathematical constants | \n",
      "| scipy.fftpack   | Fourier transform | \n",
      "| scipy.integrate|  Integration routines | \n",
      "| scipy.interpolate|  Interpolation | \n",
      "| scipy.io | Data input and output | \n",
      "| scipy.linalg|  Linear algebra routines | \n",
      "| scipy.ndimage|  n-dimensional image package | "
     ]
    },
    {
     "cell_type": "markdown",
     "metadata": {
      "slideshow": {
       "slide_type": "subslide"
      }
     },
     "source": [
      "SciPy packages (cont.)\n",
      "=======\n",
      "\n",
      "It contains many packages useful for data analysis\n",
      "\n",
      "|Package| Purpose|\n",
      "|:-------:|:----------:|\n",
      "| scipy.odr |  Orthogonal distance regression | \n",
      "| scipy.optimize |  Optimization | \n",
      "| scipy.signal |  Signal processing | \n",
      "| scipy.sparse |  Sparse matrices | \n",
      "| scipy.spatial |  Spatial data structures and algorithms | \n",
      "| scipy.special |  Any special mathematical functions | \n",
      "| scipy.stats |  Statistics | \n"
     ]
    },
    {
     "cell_type": "markdown",
     "metadata": {
      "slideshow": {
       "slide_type": "subslide"
      }
     },
     "source": [
      "SciPy: ttest example\n",
      "======="
     ]
    },
    {
     "cell_type": "code",
     "collapsed": false,
     "input": [
      "from scipy import stats\n",
      "#generating random variable samples for different distributions\n",
      "x1 = stats.norm.rvs(loc = 50, scale = 20, size=100)\n",
      "x2 = stats.norm.rvs(loc=5, scale = 20, size=100)\n",
      "print stats.ttest_ind(x1, x2)\n",
      "\n",
      "x1 = stats.norm.rvs(loc = 50, scale = 20, size=100)\n",
      "x2 = stats.norm.rvs(loc=45, scale = 20, size=100)\n",
      "print stats.ttest_ind(x1, x2)"
     ],
     "language": "python",
     "metadata": {
      "slideshow": {
       "slide_type": "-"
      }
     },
     "outputs": [
      {
       "output_type": "stream",
       "stream": "stdout",
       "text": [
        "(array(15.128963146334502), 7.1708257168105327e-35)\n",
        "(array(2.9711759869401573), 0.003333971305792435)\n"
       ]
      }
     ],
     "prompt_number": 215
    },
    {
     "cell_type": "code",
     "collapsed": false,
     "input": [
      "font_size = 20\n",
      "params = {\n",
      "        'xtick.labelsize': font_size,\n",
      "        'ytick.labelsize': font_size,\n",
      "}\n",
      "plt.rcParams.update(params) #set back font size to the default value"
     ],
     "language": "python",
     "metadata": {
      "slideshow": {
       "slide_type": "skip"
      }
     },
     "outputs": [],
     "prompt_number": 216
    },
    {
     "cell_type": "markdown",
     "metadata": {
      "slideshow": {
       "slide_type": "subslide"
      }
     },
     "source": [
      "SciPy: integrate a function\n",
      "=====\n",
      "$$\n",
      "\\int\\limits_{-\\infty}^{+\\infty} e^{-x^2}dx \\;=\\; ?\n",
      "$$"
     ]
    },
    {
     "cell_type": "code",
     "collapsed": false,
     "input": [
      "from scipy import integrate"
     ],
     "language": "python",
     "metadata": {},
     "outputs": [],
     "prompt_number": 217
    },
    {
     "cell_type": "code",
     "collapsed": false,
     "input": [
      "def the_func(x):\n",
      "    return np.exp(-x ** 2)\n",
      "print integrate.quad(the_func, -np.Inf, np.inf)"
     ],
     "language": "python",
     "metadata": {},
     "outputs": [
      {
       "output_type": "stream",
       "stream": "stdout",
       "text": [
        "(1.7724538509055159, 1.4202636897147939e-08)\n"
       ]
      }
     ],
     "prompt_number": 218
    },
    {
     "cell_type": "code",
     "collapsed": false,
     "input": [
      "print \"Exact Value sqrt(pi) = {0} ...\".format(np.pi ** 0.5)"
     ],
     "language": "python",
     "metadata": {},
     "outputs": [
      {
       "output_type": "stream",
       "stream": "stdout",
       "text": [
        "Exact Value sqrt(pi) = 1.77245385091 ...\n"
       ]
      }
     ],
     "prompt_number": 219
    },
    {
     "cell_type": "markdown",
     "metadata": {
      "slideshow": {
       "slide_type": "subslide"
      }
     },
     "source": [
      "Exercises: SciPy\n",
      "=======\n",
      "\n",
      "* Calculate the integral over the cube D=\\[0,1\\] x \\[0, 1\\] x \\[0,1\\] ([source](http://scipy-lectures.github.io/intro/numpy/exercises.html)):\n",
      "\n",
      "    $$\n",
      "    \\int\\int\\limits_{D}\\int \\left(x^y -z \\right) dD\n",
      "    $$\n",
      "\n",
      "    *Hint: checkout* `scipy.integrate.tplquad`."
     ]
    },
    {
     "cell_type": "code",
     "collapsed": false,
     "input": [
      "def the_func_to_integr(x,y,z):\n",
      "    return x**y - z\n",
      "\n",
      "integrate.tplquad(the_func_to_integr, 0,1, lambda x: 0, lambda x: 1, lambda x,y: 0, lambda x,y: 1)\n"
     ],
     "language": "python",
     "metadata": {
      "slideshow": {
       "slide_type": "skip"
      }
     },
     "outputs": [
      {
       "metadata": {},
       "output_type": "pyout",
       "prompt_number": 220,
       "text": [
        "(0.19314718056267705, 3.1929929952742784e-15)"
       ]
      }
     ],
     "prompt_number": 220
    },
    {
     "cell_type": "markdown",
     "metadata": {
      "slideshow": {
       "slide_type": "slide"
      }
     },
     "source": [
      "Netcdf4-python\n",
      "=================\n",
      "##The python module that for reading and writing NetCDF files in python, created by *Jeff Whitaker*. \n",
      "##Requires installation of C libraries:\n",
      "\n",
      "* **NetCDF4**\n",
      "\n",
      "\n",
      "* **HDF5**\n",
      "\n",
      "\n"
     ]
    },
    {
     "cell_type": "markdown",
     "metadata": {
      "slideshow": {
       "slide_type": "subslide"
      }
     },
     "source": [
      "#Netcd4-python\n",
      "\n",
      "## Below is the example of creating a netcdf file using the **netcdf4-python** library."
     ]
    },
    {
     "cell_type": "code",
     "collapsed": false,
     "input": [
      "from netCDF4 import Dataset\n",
      "file_name = \"test.nc\"\n",
      "if os.path.isfile(file_name):\n",
      "    os.remove(file_name)\n",
      "    \n",
      "#open the file for writing, you can Also specify format=\"NETCDF4_CLASSIC\" or \"NETCDF3_CLASSIC\"\n",
      "#The format is NETCDF4 by default\n",
      "ds = Dataset(file_name, mode=\"w\")"
     ],
     "language": "python",
     "metadata": {
      "slideshow": {
       "slide_type": "-"
      }
     },
     "outputs": [],
     "prompt_number": 4
    },
    {
     "cell_type": "markdown",
     "metadata": {
      "slideshow": {
       "slide_type": "subslide"
      }
     },
     "source": [
      "Netcdf4-python: create dimensions\n",
      "=========="
     ]
    },
    {
     "cell_type": "code",
     "collapsed": false,
     "input": [
      "ds.createDimension(\"x\", 20)\n",
      "ds.createDimension(\"y\", 20)\n",
      "ds.createDimension(\"time\", None)"
     ],
     "language": "python",
     "metadata": {
      "slideshow": {
       "slide_type": "-"
      }
     },
     "outputs": []
    },
    {
     "cell_type": "markdown",
     "metadata": {
      "slideshow": {
       "slide_type": "subslide"
      }
     },
     "source": [
      "Netcdf4-python: create variables\n",
      "=========="
     ]
    },
    {
     "cell_type": "code",
     "collapsed": false,
     "input": [
      "var1 = ds.createVariable(\"field1\", \"f4\", (\"time\", \"x\", \"y\"))\n",
      "var2 = ds.createVariable(\"field2\", \"f4\", (\"time\", \"x\", \"y\"))"
     ],
     "language": "python",
     "metadata": {
      "slideshow": {
       "slide_type": "-"
      }
     },
     "outputs": []
    },
    {
     "cell_type": "markdown",
     "metadata": {
      "slideshow": {
       "slide_type": "subslide"
      }
     },
     "source": [
      "#Write actual data to the file"
     ]
    },
    {
     "cell_type": "code",
     "collapsed": false,
     "input": [
      "#generate random data and tell to the program where it should go\n",
      "data = np.random.randn(10, 20, 20)\n",
      "var1[:] = data\n",
      "var2[:] = 10 * data + 10\n",
      "#actually write data to the disk\n",
      "ds.close();"
     ],
     "language": "python",
     "metadata": {},
     "outputs": [],
     "prompt_number": 5
    },
    {
     "cell_type": "markdown",
     "metadata": {
      "slideshow": {
       "slide_type": "subslide"
      }
     },
     "source": [
      "Netcdf4-python: reading a netcdf file\n",
      "==============\n",
      "\n",
      "Open the netcdf file for reading:"
     ]
    },
    {
     "cell_type": "code",
     "collapsed": false,
     "input": [
      "from netCDF4 import Dataset\n",
      "ds = Dataset(\"test.nc\")"
     ],
     "language": "python",
     "metadata": {
      "slideshow": {
       "slide_type": "-"
      }
     },
     "outputs": [],
     "prompt_number": 6
    },
    {
     "cell_type": "markdown",
     "metadata": {
      "slideshow": {
       "slide_type": "subslide"
      }
     },
     "source": [
      "Select variables of interest: no data loading happens at this point\n",
      "======"
     ]
    },
    {
     "cell_type": "code",
     "collapsed": false,
     "input": [
      "#what variables are in the file\n",
      "print ds.variables.keys()\n",
      "\n",
      "#now data is a netcdf4 Variable object, which contain only links to the data\n",
      "data1_var = ds.variables[\"field1\"]\n",
      "data2_var = ds.variables[\"field2\"]\n",
      "#You can query dimensions and shapes of the variables\n",
      "print data1_var.dimensions, data1_var.shape"
     ],
     "language": "python",
     "metadata": {},
     "outputs": [
      {
       "output_type": "stream",
       "stream": "stdout",
       "text": [
        "[u'field1', u'field2']\n",
        "(u'time', u'x', u'y') (10, 20, 20)\n"
       ]
      }
     ],
     "prompt_number": 12
    },
    {
     "cell_type": "markdown",
     "metadata": {
      "slideshow": {
       "slide_type": "subslide"
      }
     },
     "source": [
      "Read data from the netcdf file for corresponding variables and time steps\n",
      "=========="
     ]
    },
    {
     "cell_type": "code",
     "collapsed": false,
     "input": [
      "#now we ask to really read the data into the memory\n",
      "all_data = data1_var[:]\n",
      "#print all_data.shape\n",
      "data1 = data1_var[1,:,:]\n",
      "data2 = data2_var[2,:,:]\n",
      "print data1.shape, all_data.shape, all_data.mean(axis = 0).mean(axis = 0).mean(axis = 0)"
     ],
     "language": "python",
     "metadata": {},
     "outputs": [
      {
       "output_type": "stream",
       "stream": "stdout",
       "text": [
        "(20, 20) (10, 20, 20) 0.0129545\n"
       ]
      }
     ],
     "prompt_number": 8
    },
    {
     "cell_type": "markdown",
     "metadata": {
      "slideshow": {
       "slide_type": "slide"
      }
     },
     "source": [
      "Outline part II\n",
      "========\n",
      "\n",
      "* **Plotting libraries**\n",
      "\n",
      "    * Matplotlib\n",
      "\n",
      "    * Basemap\n",
      "    \n",
      "    \n",
      "* **Grouping and subsetting temporal data with ```pandas```**    \n",
      "\n",
      "\n",
      "* **Interpolation using ```cKDTree``` (```KDTree```) class**\n",
      "\n",
      "\n",
      "* **Speeding up your code**\n"
     ]
    },
    {
     "cell_type": "markdown",
     "metadata": {
      "slideshow": {
       "slide_type": "slide"
      }
     },
     "source": [
      "Matplotlib\n",
      "============\n",
      "\n",
      "##The module for creating publication quality plots (mainly 2D), created by *John Hunter*.\n",
      "\n",
      "##[Matplotlib gallery](http://matplotlib.org/gallery.html)\n",
      "\n",
      "\n",
      "An alternative is PyNGL - a wrapper around NCL developed at NCAR.\n",
      "\n"
     ]
    },
    {
     "cell_type": "markdown",
     "metadata": {
      "slideshow": {
       "slide_type": "subslide"
      }
     },
     "source": [
      "Matplotlib\n",
      "=====\n",
      "Example taken from the matplotlib library and modified.\n",
      "\n",
      "Read some timeseries into memory and import external dependencies:"
     ]
    },
    {
     "cell_type": "code",
     "collapsed": false,
     "input": [
      "import matplotlib.pyplot as plt\n",
      "from datetime import datetime\n",
      "import matplotlib.cbook as cbook\n",
      "from matplotlib.dates import strpdate2num\n",
      "from matplotlib.dates import DateFormatter\n",
      "from matplotlib.dates import DayLocator, MonthLocator\n",
      "\n",
      "datafile = cbook.get_sample_data('msft.csv', asfileobj=False)\n",
      "dates, closes = np.loadtxt(datafile, delimiter=',',\n",
      "    converters={0: strpdate2num('%d-%b-%y')},\n",
      "    skiprows=1, usecols=(0,2), unpack=True)"
     ],
     "language": "python",
     "metadata": {},
     "outputs": [],
     "prompt_number": 224
    },
    {
     "cell_type": "markdown",
     "metadata": {
      "slideshow": {
       "slide_type": "subslide"
      }
     },
     "source": [
      "Plot timeseries\n",
      "==================="
     ]
    },
    {
     "cell_type": "code",
     "collapsed": false,
     "input": [
      "fig = plt.figure()\n",
      "ax = fig.add_subplot(111)\n",
      "ax.plot(dates, closes, lw = 2);"
     ],
     "language": "python",
     "metadata": {
      "slideshow": {
       "slide_type": "-"
      }
     },
     "outputs": [
      {
       "metadata": {},
       "output_type": "display_data",
       "png": "[encoded data removed]",
       "text": [
        "<matplotlib.figure.Figure at 0xc7abe0c>"
       ]
      }
     ],
     "prompt_number": 225
    },
    {
     "cell_type": "markdown",
     "metadata": {
      "slideshow": {
       "slide_type": "subslide"
      }
     },
     "source": [
      "Format the x-axis properly\n",
      "===="
     ]
    },
    {
     "cell_type": "code",
     "collapsed": false,
     "input": [
      "fig = plt.figure()\n",
      "ax = fig.add_subplot(111)\n",
      "ax.plot(dates, closes, lw = 2)\n",
      "\n",
      "ax.xaxis.set_major_formatter(DateFormatter(\"%b\\n%Y\"))\n",
      "ax.xaxis.set_minor_locator(DayLocator())\n",
      "ax.xaxis.set_major_locator(MonthLocator())"
     ],
     "language": "python",
     "metadata": {},
     "outputs": [
      {
       "metadata": {},
       "output_type": "display_data",
       "png": "[encoded data removed]",
       "text": [
        "<matplotlib.figure.Figure at 0xc7a9b4c>"
       ]
      }
     ],
     "prompt_number": 226
    },
    {
     "cell_type": "markdown",
     "metadata": {
      "slideshow": {
       "slide_type": "subslide"
      }
     },
     "source": [
      "Modify the way the graph looks\n",
      "====="
     ]
    },
    {
     "cell_type": "code",
     "collapsed": false,
     "input": [
      "def modify_graph(ax):\n",
      "    ax.xaxis.set_major_formatter(DateFormatter(\"%b\"))\n",
      "    ax.xaxis.set_minor_locator(DayLocator())\n",
      "    ax.xaxis.set_major_locator(MonthLocator())\n",
      "    ax.yaxis.set_major_locator(MaxNLocator(nbins=5))\n",
      "    ax.grid()\n",
      "    ax.set_ylim([25.5, 30]); ax.set_xlim([dates[-1], dates[0]]);"
     ],
     "language": "python",
     "metadata": {},
     "outputs": [],
     "prompt_number": 227
    },
    {
     "cell_type": "markdown",
     "metadata": {
      "slideshow": {
       "slide_type": "subslide"
      }
     },
     "source": [
      "Modify the way the graph looks\n",
      "====="
     ]
    },
    {
     "cell_type": "code",
     "collapsed": false,
     "input": [
      "fig = plt.figure()\n",
      "ax = fig.add_subplot(111)\n",
      "ax.plot(dates, closes, \"gray\", lw = 3)\n",
      "modify_graph(ax)"
     ],
     "language": "python",
     "metadata": {},
     "outputs": [
      {
       "metadata": {},
       "output_type": "display_data",
       "png": "[encoded data removed]",
       "text": [
        "<matplotlib.figure.Figure at 0xbedc4cc>"
       ]
      }
     ],
     "prompt_number": 228
    },
    {
     "cell_type": "markdown",
     "metadata": {
      "slideshow": {
       "slide_type": "subslide"
      }
     },
     "source": [
      "Let us draw the data we just saved to the netcdf file.\n",
      "====\n",
      "\n",
      "Do necessary imports and create configuration objects."
     ]
    },
    {
     "cell_type": "code",
     "collapsed": false,
     "input": [
      "import matplotlib.pyplot as plt\n",
      "from matplotlib.colors import BoundaryNorm\n",
      "from matplotlib import cm\n",
      "\n",
      "levels = [-30,-10, -3,-1,0,1,3,10,30,40]\n",
      "bn = BoundaryNorm(levels, len(levels) - 1)\n",
      "cmap = cm.get_cmap(\"jet\", len(levels) - 1);"
     ],
     "language": "python",
     "metadata": {},
     "outputs": [],
     "prompt_number": 229
    },
    {
     "cell_type": "markdown",
     "metadata": {
      "slideshow": {
       "slide_type": "subslide"
      }
     },
     "source": [
      "Matplotlib: actual plotting\n",
      "============"
     ]
    },
    {
     "cell_type": "code",
     "collapsed": false,
     "input": [
      "font_size = 20\n",
      "params = {\n",
      "        'xtick.labelsize': font_size,\n",
      "        'ytick.labelsize': font_size,\n",
      "        'figure.figsize' : (10, 3)\n",
      "}\n",
      "plt.rcParams.update(params) #set back font size to the default value\n",
      "\n",
      "def apply_some_formatting(axes, im):\n",
      "    axes[1].set_yticks([]); \n",
      "    axes[2].set_aspect(20); \n",
      "    cax = axes[2]; \n",
      "    cax.set_anchor(\"W\")\n",
      "    cb = plt.colorbar(im2, cax = axes[2]);"
     ],
     "language": "python",
     "metadata": {
      "slideshow": {
       "slide_type": "skip"
      }
     },
     "outputs": [],
     "prompt_number": 230
    },
    {
     "cell_type": "code",
     "collapsed": false,
     "input": [
      "fig, axes = plt.subplots(nrows=1, ncols=3)\n",
      "im1 = axes[0].contourf(data1.transpose(), \n",
      "                       levels = levels, \n",
      "                       norm = bn, cmap = cmap)\n",
      "im2 = axes[1].contourf(data2.transpose(), \n",
      "                       levels = levels, \n",
      "                       norm = bn, cmap = cmap)\n",
      "apply_some_formatting(axes, im2)"
     ],
     "language": "python",
     "metadata": {
      "slideshow": {
       "slide_type": "-"
      }
     },
     "outputs": [
      {
       "metadata": {},
       "output_type": "display_data",
       "png": "[encoded data removed]",
       "text": [
        "<matplotlib.figure.Figure at 0xaf31f8c>"
       ]
      }
     ],
     "prompt_number": 231
    },
    {
     "cell_type": "markdown",
     "metadata": {
      "slideshow": {
       "slide_type": "subslide"
      }
     },
     "source": [
      "Execises: Matplotlib\n",
      "=============\n",
      "\n",
      "* Reproduce the panel plot given in the example. (Try different colormaps)\n",
      "\n",
      "\n",
      "* Plot a timeseries of daily random data. (Show only month names as Jan, Feb, .. along the x-axis, make sure they do not overlap)"
     ]
    },
    {
     "cell_type": "markdown",
     "metadata": {
      "slideshow": {
       "slide_type": "slide"
      }
     },
     "source": [
      "Pandas\n",
      "====\n",
      "\n",
      "* ## Initially designed to process and analyse long timeseries\n",
      "\n",
      "\n",
      "* ## Author: *Wes McKinney*\n",
      "\n",
      "* ## Home page: [pandas.pydata.org](http://pandas.pydata.org/) "
     ]
    },
    {
     "cell_type": "markdown",
     "metadata": {
      "slideshow": {
       "slide_type": "subslide"
      }
     },
     "source": [
      "Load the same timeseries as for matplotlib example\n",
      "======"
     ]
    },
    {
     "cell_type": "code",
     "collapsed": false,
     "input": [
      "import pandas as pd\n",
      "datafile = cbook.get_sample_data('msft.csv', asfileobj=False)\n",
      "df = pd.DataFrame.from_csv(datafile); df.head(3)"
     ],
     "language": "python",
     "metadata": {
      "slideshow": {
       "slide_type": "-"
      }
     },
     "outputs": [
      {
       "html": [
        "<div style=\"max-height:1000px;max-width:1500px;overflow:auto;\">\n",
        "<table border=\"1\" class=\"dataframe\">\n",
        "  <thead>\n",
        "    <tr style=\"text-align: right;\">\n",
        "      <th></th>\n",
        "      <th>Open</th>\n",
        "      <th>High</th>\n",
        "      <th>Low</th>\n",
        "      <th>Close</th>\n",
        "      <th>Volume</th>\n",
        "      <th>Adj. Close*</th>\n",
        "    </tr>\n",
        "    <tr>\n",
        "      <th>Date</th>\n",
        "      <th></th>\n",
        "      <th></th>\n",
        "      <th></th>\n",
        "      <th></th>\n",
        "      <th></th>\n",
        "      <th></th>\n",
        "    </tr>\n",
        "  </thead>\n",
        "  <tbody>\n",
        "    <tr>\n",
        "      <th>2003-09-19</th>\n",
        "      <td> 29.76</td>\n",
        "      <td> 29.97</td>\n",
        "      <td> 29.52</td>\n",
        "      <td> 29.96</td>\n",
        "      <td> 92433800</td>\n",
        "      <td> 29.79</td>\n",
        "    </tr>\n",
        "    <tr>\n",
        "      <th>2003-09-18</th>\n",
        "      <td> 28.49</td>\n",
        "      <td> 29.51</td>\n",
        "      <td> 28.42</td>\n",
        "      <td> 29.50</td>\n",
        "      <td> 67268096</td>\n",
        "      <td> 29.34</td>\n",
        "    </tr>\n",
        "    <tr>\n",
        "      <th>2003-09-17</th>\n",
        "      <td> 28.76</td>\n",
        "      <td> 28.95</td>\n",
        "      <td> 28.47</td>\n",
        "      <td> 28.50</td>\n",
        "      <td> 47221600</td>\n",
        "      <td> 28.34</td>\n",
        "    </tr>\n",
        "  </tbody>\n",
        "</table>\n",
        "<p>3 rows \u00d7 6 columns</p>\n",
        "</div>"
       ],
       "metadata": {},
       "output_type": "pyout",
       "prompt_number": 232,
       "text": [
        "             Open   High    Low  Close    Volume  Adj. Close*\n",
        "Date                                                         \n",
        "2003-09-19  29.76  29.97  29.52  29.96  92433800        29.79\n",
        "2003-09-18  28.49  29.51  28.42  29.50  67268096        29.34\n",
        "2003-09-17  28.76  28.95  28.47  28.50  47221600        28.34\n",
        "\n",
        "[3 rows x 6 columns]"
       ]
      }
     ],
     "prompt_number": 232
    },
    {
     "cell_type": "markdown",
     "metadata": {
      "slideshow": {
       "slide_type": "subslide"
      }
     },
     "source": [
      "Select the closes column\n",
      "====== "
     ]
    },
    {
     "cell_type": "code",
     "collapsed": false,
     "input": [
      "closes_col_sorted = df.Close.sort_index()\n",
      "closes_col_sorted.plot(lw = 2);"
     ],
     "language": "python",
     "metadata": {},
     "outputs": [
      {
       "metadata": {},
       "output_type": "display_data",
       "png": "[encoded data removed]",
       "text": [
        "<matplotlib.figure.Figure at 0xb027f4c>"
       ]
      }
     ],
     "prompt_number": 233
    },
    {
     "cell_type": "markdown",
     "metadata": {
      "slideshow": {
       "slide_type": "subslide"
      }
     },
     "source": [
      "Group by month and plot monthly means\n",
      "====== "
     ]
    },
    {
     "cell_type": "code",
     "collapsed": false,
     "input": [
      "df_month_mean = df.groupby(by = lambda d: d.month).mean()\n",
      "df_month_mean = df_month_mean.drop(\"Volume\", axis = 1)\n",
      "df_month_mean.plot(lw = 3);\n",
      "plt.legend(loc = 2);"
     ],
     "language": "python",
     "metadata": {},
     "outputs": [
      {
       "metadata": {},
       "output_type": "display_data",
       "png": "[encoded data removed]",
       "text": [
        "<matplotlib.figure.Figure at 0xc41210c>"
       ]
      }
     ],
     "prompt_number": 234
    },
    {
     "cell_type": "markdown",
     "metadata": {
      "slideshow": {
       "slide_type": "subslide"
      }
     },
     "source": [
      "It is easy to resample and do a rolling mean\n",
      "====== "
     ]
    },
    {
     "cell_type": "code",
     "collapsed": false,
     "input": [
      "resampled_closes = closes_col_sorted.resample(\"5D\", how=np.mean)\n",
      "ax = pd.rolling_mean(resampled_closes, 4)[3:].plot(lw = 2);"
     ],
     "language": "python",
     "metadata": {},
     "outputs": [
      {
       "metadata": {},
       "output_type": "display_data",
       "png": "[encoded data removed]",
       "text": [
        "<matplotlib.figure.Figure at 0xb698e8c>"
       ]
      }
     ],
     "prompt_number": 235
    },
    {
     "cell_type": "markdown",
     "metadata": {
      "slideshow": {
       "slide_type": "subslide"
      }
     },
     "source": [
      "Customizing the graph produced by pandas\n",
      "====== "
     ]
    },
    {
     "cell_type": "code",
     "collapsed": false,
     "input": [
      "ax = pd.rolling_mean(resampled_closes, 4)[3:].plot(lw = 2);\n",
      "ax.xaxis.set_minor_formatter(NullFormatter())\n",
      "ax.xaxis.set_major_locator(MonthLocator(bymonthday=1))\n",
      "ax.xaxis.set_major_formatter(DateFormatter(\"%b\"))\n",
      "ax.set_xlabel(\"\");"
     ],
     "language": "python",
     "metadata": {},
     "outputs": [
      {
       "metadata": {},
       "output_type": "display_data",
       "png": "[encoded data removed]",
       "text": [
        "<matplotlib.figure.Figure at 0xb08e70c>"
       ]
      }
     ],
     "prompt_number": 236
    },
    {
     "cell_type": "markdown",
     "metadata": {
      "slideshow": {
       "slide_type": "subslide"
      }
     },
     "source": [
      "Exercises: Pandas\n",
      "====== \n",
      "\n",
      "* Using the same data as in the examples, calculate mean monthly closing prices but using only odd dates (i.e 1st of Jul, 3rd of Jul, ...)"
     ]
    },
    {
     "cell_type": "markdown",
     "metadata": {
      "slideshow": {
       "slide_type": "slide"
      }
     },
     "source": [
      "# Basemap\n",
      "## The author is Jeff Whitaker.  \n",
      "## Basemap code is available on [github](https://github.com/matplotlib/basemap).\n",
      "\n",
      "## Example [gallery](http://matplotlib.org/basemap/users/examples.html).\n",
      "\n",
      "PyNGL - can be used as an alternative."
     ]
    },
    {
     "cell_type": "markdown",
     "metadata": {
      "slideshow": {
       "slide_type": "subslide"
      }
     },
     "source": [
      "# The usual workflow with the library:\n",
      "\n",
      "\n",
      "* **Create a basemap object**\n",
      "<pre class=\"co\">\n",
      "basemap = Basemap(projection=\"...\", ...)\n",
      "</pre>\n",
      "\n",
      "\n",
      "* **Draw your field using:** \n",
      "<pre class=\"co\">\n",
      "basemap.contour(), basemap.contourf(), \n",
      "basemap.pcolormesh()\n",
      "</pre>\n",
      "\n",
      "* **It provides utility functions to draw coastlines, meridians and shapefiles (only those that contain lat/lon coordinates), mask ocean points.**\n",
      "\n",
      "* **Drawing the colorbar is as easy as:**\n",
      "<pre class=\"co\">\n",
      "basemap.colorbar(img)\n",
      "</pre>\n",
      "    \n"
     ]
    },
    {
     "cell_type": "markdown",
     "metadata": {
      "slideshow": {
       "slide_type": "subslide"
      }
     },
     "source": [
      "# Basemap\n",
      "Can be used for nice map backgrounds"
     ]
    },
    {
     "cell_type": "code",
     "collapsed": false,
     "input": [
      "from mpl_toolkits.basemap import Basemap\n",
      "b = Basemap()\n",
      "fig, (ax1, ax2) = plt.subplots(1,2)\n",
      "\n",
      "b.warpimage(ax = ax1, scale = 0.1); \n",
      "im = b.etopo(ax = ax2, scale = 0.1); "
     ],
     "language": "python",
     "metadata": {},
     "outputs": [
      {
       "metadata": {},
       "output_type": "display_data",
       "png": "[encoded data removed]",
       "text": [
        "<matplotlib.figure.Figure at 0x10567e390>"
       ]
      }
     ],
     "prompt_number": 13
    },
    {
     "cell_type": "markdown",
     "metadata": {
      "slideshow": {
       "slide_type": "subslide"
      }
     },
     "source": [
      "Define a helper download function\n",
      "======"
     ]
    },
    {
     "cell_type": "code",
     "collapsed": false,
     "input": [
      "import os\n",
      "def download_link(url, local_path):\n",
      "    if os.path.isfile(local_path):\n",
      "        return\n",
      "    \n",
      "    import urllib2\n",
      "    s = urllib2.urlopen(url)\n",
      "    with open(local_path, \"wb\") as local_file:\n",
      "        local_file.write(s.read())   "
     ],
     "language": "python",
     "metadata": {},
     "outputs": [],
     "prompt_number": 14
    },
    {
     "cell_type": "markdown",
     "metadata": {
      "slideshow": {
       "slide_type": "subslide"
      }
     },
     "source": [
      "# Basemap: display model results in rotated lat/lon projection"
     ]
    },
    {
     "cell_type": "code",
     "collapsed": false,
     "input": [
      "f_name = \"monthly_mean_qc_0.1_1979_05_PR.rpn.nc\"\n",
      "base_url = \"http://scaweb.sca.uqam.ca/~huziy/example_data\"\n",
      "#Fetch the file if it is not there\n",
      "url = os.path.join(base_url, f_name)\n",
      "download_link(url, f_name)\n",
      "\n",
      "#read the file and check what is inside\n",
      "ds_pr = Dataset(f_name)\n",
      "print ds_pr.variables.keys()"
     ],
     "language": "python",
     "metadata": {},
     "outputs": [
      {
       "output_type": "stream",
       "stream": "stdout",
       "text": [
        "[u'rlon', u'rlat', u'level', u'time', u'lon', u'lat', u'rotated_pole', u'preacc']\n"
       ]
      }
     ],
     "prompt_number": 15
    },
    {
     "cell_type": "markdown",
     "metadata": {
      "slideshow": {
       "slide_type": "subslide"
      }
     },
     "source": [
      "Read data from the NetCDF file\n",
      "===="
     ]
    },
    {
     "cell_type": "code",
     "collapsed": false,
     "input": [
      "rotpole = ds_pr.variables[\"rotated_pole\"]\n",
      "lon = ds_pr.variables[\"lon\"][:]\n",
      "lat = ds_pr.variables[\"lat\"][:]\n",
      "data = ds_pr.variables[\"preacc\"][:].squeeze()\n",
      "#rotpole.ncattrs(); - returns a list of netcdf attributes of a variable\n",
      "print rotpole.grid_north_pole_latitude, \\\n",
      "      rotpole.grid_north_pole_longitude, \\\n",
      "      rotpole.north_pole_grid_longitude"
     ],
     "language": "python",
     "metadata": {
      "slideshow": {
       "slide_type": "fragment"
      }
     },
     "outputs": [
      {
       "output_type": "stream",
       "stream": "stdout",
       "text": [
        "37.8787 106.65 176.709\n"
       ]
      }
     ],
     "prompt_number": 16
    },
    {
     "cell_type": "markdown",
     "metadata": {
      "slideshow": {
       "slide_type": "subslide"
      }
     },
     "source": [
      "Creating a basemap object for the data\n",
      "======"
     ]
    },
    {
     "cell_type": "code",
     "collapsed": false,
     "input": [
      "lon_0 = rotpole.grid_north_pole_longitude - 180\n",
      "o_lon_p = rotpole.north_pole_grid_longitude\n",
      "o_lat_p = rotpole.grid_north_pole_latitude\n",
      "b = Basemap(projection=\"rotpole\", \n",
      "            lon_0=lon_0, \n",
      "            o_lon_p = o_lon_p, \n",
      "            o_lat_p = o_lat_p,\n",
      "            llcrnrlon = lon[0, 0], \n",
      "            llcrnrlat = lat[0, 0],\n",
      "            urcrnrlon = lon[-1, -1], \n",
      "            urcrnrlat = lat[-1, -1], \n",
      "            resolution=\"l\")"
     ],
     "language": "python",
     "metadata": {},
     "outputs": [],
     "prompt_number": 17
    },
    {
     "cell_type": "markdown",
     "metadata": {
      "slideshow": {
       "slide_type": "subslide"
      }
     },
     "source": [
      "Projecting to and from the projection coordinates\n",
      "======="
     ]
    },
    {
     "cell_type": "code",
     "collapsed": false,
     "input": [
      "#(lat, lon) -> (x, y)\n",
      "x, y = b(lon, lat)\n",
      "\n",
      "#(x,y) -> (lat, lon)\n",
      "loninv, latinv = b(x, y, inverse=True)"
     ],
     "language": "python",
     "metadata": {},
     "outputs": [],
     "prompt_number": 19
    },
    {
     "cell_type": "markdown",
     "metadata": {
      "slideshow": {
       "slide_type": "subslide"
      }
     },
     "source": [
      "Define plotting function to reuse\n",
      "=====\n"
     ]
    },
    {
     "cell_type": "code",
     "collapsed": false,
     "input": [
      "def plot_data(x, y, data, ax):\n",
      "    im = b.contourf(x, y, data, ax = ax)\n",
      "    b.colorbar(im, ax = ax)\n",
      "    b.drawcoastlines(linewidth=0.5);"
     ],
     "language": "python",
     "metadata": {},
     "outputs": [],
     "prompt_number": 242
    },
    {
     "cell_type": "markdown",
     "metadata": {
      "slideshow": {
       "slide_type": "subslide"
      }
     },
     "source": [
      "Plot the data\n",
      "====="
     ]
    },
    {
     "cell_type": "code",
     "collapsed": false,
     "input": [
      "fig, (ax1, ax2) = plt.subplots(1,2)\n",
      "#plot data as is\n",
      "plot_data(x, y, data, ax1)\n",
      "#mask small values\n",
      "to_plot = np.ma.masked_where(data <= 2, data) \n",
      "plot_data(x, y, to_plot, ax2)"
     ],
     "language": "python",
     "metadata": {},
     "outputs": [
      {
       "metadata": {},
       "output_type": "display_data",
       "png": "[encoded data removed]",
       "text": [
        "<matplotlib.figure.Figure at 0xbad0a0c>"
       ]
      }
     ],
     "prompt_number": 243
    },
    {
     "cell_type": "markdown",
     "metadata": {
      "slideshow": {
       "slide_type": "subslide"
      }
     },
     "source": [
      "Masking oceans is as easy as\n",
      "====="
     ]
    },
    {
     "cell_type": "code",
     "collapsed": false,
     "input": [
      "from mpl_toolkits.basemap import maskoceans\n",
      "lon1 = lon.copy()\n",
      "lon1[lon1 > 180] = lon1[lon1 > 180] - 360\n",
      "data_no_ocean = maskoceans(lon1, lat, data)"
     ],
     "language": "python",
     "metadata": {},
     "outputs": [],
     "prompt_number": 244
    },
    {
     "cell_type": "markdown",
     "metadata": {
      "slideshow": {
       "slide_type": "subslide"
      }
     },
     "source": [
      "Plot masked field\n",
      "====="
     ]
    },
    {
     "cell_type": "code",
     "collapsed": false,
     "input": [
      "fig, ax = plt.subplots(1,1)\n",
      "plot_data(x, y, data_no_ocean, ax)"
     ],
     "language": "python",
     "metadata": {},
     "outputs": [
      {
       "metadata": {},
       "output_type": "display_data",
       "png": "[encoded data removed]",
       "text": [
        "<matplotlib.figure.Figure at 0xb01a5cc>"
       ]
      }
     ],
     "prompt_number": 245
    },
    {
     "cell_type": "markdown",
     "metadata": {
      "slideshow": {
       "slide_type": "subslide"
      }
     },
     "source": [
      "# Basemap: reading and visualizing shape files (Download data)"
     ]
    },
    {
     "cell_type": "code",
     "collapsed": false,
     "input": [
      "from urllib2 import urlopen\n",
      "import re, os"
     ],
     "language": "python",
     "metadata": {
      "slideshow": {
       "slide_type": "skip"
      }
     },
     "outputs": [],
     "prompt_number": 246
    },
    {
     "cell_type": "code",
     "collapsed": false,
     "input": [
      "#download the shape files directory\n",
      "local_folder = \"countries\"\n",
      "remote_folder = 'http://scaweb.sca.uqam.ca/~huziy/example_data/countries/'\n",
      "if not os.path.isfile(local_folder+\"/cntry00.shp\"):\n",
      "    urlpath = urlopen(remote_folder)\n",
      "    string = urlpath.read().decode('utf-8')\n",
      "    pattern = re.compile(r'cntry00\\....\"')\n",
      "    filelist = pattern.findall(string)\n",
      "    filelist = [s[:-1] for s in filelist if not s.endswith('zip\"')]\n",
      "    \n",
      "    if not os.path.isdir(local_folder):\n",
      "        os.mkdir(local_folder)\n",
      "    for fname in filelist:\n",
      "        f_path = os.path.join(local_folder, fname)\n",
      "        remote_f_path = os.path.join(remote_folder, fname)\n",
      "        #download selected files\n",
      "        download_link(remote_f_path, f_path)"
     ],
     "language": "python",
     "metadata": {},
     "outputs": [],
     "prompt_number": 247
    },
    {
     "cell_type": "markdown",
     "metadata": {
      "slideshow": {
       "slide_type": "subslide"
      }
     },
     "source": [
      "# Basemap: reading and visualizing shape files"
     ]
    },
    {
     "cell_type": "code",
     "collapsed": false,
     "input": [
      "bworld = Basemap()\n",
      "shp_file = os.path.join(local_folder, \"cntry00\")\n",
      "ncountries, _, _, _, linecollection = bworld.readshapefile(shp_file, \"country\")"
     ],
     "language": "python",
     "metadata": {},
     "outputs": [
      {
       "metadata": {},
       "output_type": "display_data",
       "png": "[encoded data removed]",
       "text": [
        "<matplotlib.figure.Figure at 0xccb752c>"
       ]
      }
     ],
     "prompt_number": 248
    },
    {
     "cell_type": "markdown",
     "metadata": {
      "slideshow": {
       "slide_type": "subslide"
      }
     },
     "source": [
      "Reading country polygons (and attributes) from the shape file, necessary imports \n",
      "====="
     ]
    },
    {
     "cell_type": "code",
     "collapsed": false,
     "input": [
      "import fiona\n",
      "from matplotlib.collections import PatchCollection\n",
      "from shapely.geometry import MultiPolygon, shape\n",
      "from matplotlib.patches import Polygon\n",
      "import shapely\n",
      "import matplotlib.cm as cm"
     ],
     "language": "python",
     "metadata": {},
     "outputs": [],
     "prompt_number": 249
    },
    {
     "cell_type": "markdown",
     "metadata": {
      "slideshow": {
       "slide_type": "subslide"
      }
     },
     "source": [
      "Reading country polygons (and attributes) from the shape file, preparations \n",
      "====="
     ]
    },
    {
     "cell_type": "code",
     "collapsed": false,
     "input": [
      "cmap_shape = cm.get_cmap(\"Greens\", 10)\n",
      "bounds = np.arange(0, 1.65, 0.15) * 1e9\n",
      "bn_shape = BoundaryNorm(bounds, len(bounds) - 1)\n",
      "\n",
      "bworld = Basemap()\n",
      "populations = []; patches = []\n",
      "\n",
      "def to_mpl_poly(shp_poly, apatches): \n",
      "    a = np.asarray(shp_poly.exterior)\n",
      "    x, y = bworld(a[:, 0], a[:, 1])\n",
      "    apatches.append(Polygon(zip(x, y)))"
     ],
     "language": "python",
     "metadata": {},
     "outputs": [],
     "prompt_number": 250
    },
    {
     "cell_type": "markdown",
     "metadata": {
      "slideshow": {
       "slide_type": "subslide"
      }
     },
     "source": [
      "Reading country polygons (and attributes) from the shape file, preparations \n",
      "====="
     ]
    },
    {
     "cell_type": "code",
     "collapsed": false,
     "input": [
      "with fiona.open('countries/cntry00.shp', 'r') as inp:\n",
      "    for f in inp:\n",
      "        the_population = f[\"properties\"][\"POP_CNTRY\"]\n",
      "        sh = shape(f['geometry'])\n",
      "        \n",
      "        if isinstance(sh, shapely.geometry.Polygon):\n",
      "            to_mpl_poly(sh, patches)\n",
      "            populations.append(the_population)\n",
      "        elif isinstance(sh, shapely.geometry.MultiPolygon):\n",
      "            for sh1 in sh.geoms:\n",
      "                to_mpl_poly(sh1, patches)\n",
      "                populations.append(the_population)"
     ],
     "language": "python",
     "metadata": {},
     "outputs": [],
     "prompt_number": 251
    },
    {
     "cell_type": "markdown",
     "metadata": {
      "slideshow": {
       "slide_type": "subslide"
      }
     },
     "source": [
      "Coloring the countries based on the attribute value\n",
      "========="
     ]
    },
    {
     "cell_type": "code",
     "collapsed": false,
     "input": [
      "sf = ScalarFormatter(useMathText=True)"
     ],
     "language": "python",
     "metadata": {
      "slideshow": {
       "slide_type": "skip"
      }
     },
     "outputs": [],
     "prompt_number": 252
    },
    {
     "cell_type": "code",
     "collapsed": false,
     "input": [
      "fig = plt.figure(); ax = fig.add_subplot(111)\n",
      "pcol = PatchCollection(patches, cmap = cmap_shape, norm = bn_shape)\n",
      "pcol.set_array(np.array(populations))\n",
      "ax.add_collection(pcol)\n",
      "cb = bworld.colorbar(pcol, ticks = bounds, format = sf)\n",
      "cb.ax.yaxis.get_offset_text().set_position((-2,0))\n",
      "bworld.drawcoastlines(ax = ax, linewidth = 0);"
     ],
     "language": "python",
     "metadata": {},
     "outputs": [
      {
       "metadata": {},
       "output_type": "display_data",
       "png": "[encoded data removed]",
       "text": [
        "<matplotlib.figure.Figure at 0xaa70f84c>"
       ]
      }
     ],
     "prompt_number": 253
    },
    {
     "cell_type": "markdown",
     "metadata": {
      "slideshow": {
       "slide_type": "subslide"
      }
     },
     "source": [
      "Exercise: shape files\n",
      "======\n",
      "\n",
      "* There is a [script](http://scaweb.sca.uqam.ca/~huziy/example_data/fiona_test.py) which contains a bug. Copy it to your working directory and try to fix the bug. Try launching it and see if the produced image is correct."
     ]
    },
    {
     "cell_type": "markdown",
     "metadata": {
      "slideshow": {
       "slide_type": "subslide"
      }
     },
     "source": [
      "# Basemap: plotting wind field (read and convert units)"
     ]
    },
    {
     "cell_type": "code",
     "collapsed": false,
     "input": [
      "download_link(\"http://scaweb.sca.uqam.ca/~huziy/example_data/wind.nc\", \"wind.nc\")\n",
      "ds_wind = Dataset(\"wind.nc\")\n",
      "u = ds_wind.variables[\"UU\"][:]\n",
      "v = ds_wind.variables[\"VV\"][:]\n",
      "coef_wind = 0.51444444444 #m/s in one knot\n",
      "ds_wind.close()"
     ],
     "language": "python",
     "metadata": {},
     "outputs": [],
     "prompt_number": 254
    },
    {
     "cell_type": "markdown",
     "metadata": {
      "slideshow": {
       "slide_type": "subslide"
      }
     },
     "source": [
      "# Basemap: plotting wind field"
     ]
    },
    {
     "cell_type": "code",
     "collapsed": false,
     "input": [
      "fig = plt.figure()\n",
      "fig.set_size_inches(6,8)\n",
      "Q = b.quiver(x[::8, ::8], y[::8, ::8], \n",
      "             u[::8, ::8] * coef_wind, v[::8, ::8] * coef_wind)\n",
      "# make quiver key.\n",
      "qk = plt.quiverkey(Q, 0.35, 0.1, 5, '5 m/s', labelpos='N',\n",
      "                   coordinates = \"figure\", \n",
      "                   fontproperties = dict(weight=\"bold\"))\n",
      "b.drawcoastlines(linewidth = 0.1);\n",
      "plt.savefig(\"wind.png\");"
     ],
     "language": "python",
     "metadata": {},
     "outputs": [
      {
       "metadata": {},
       "output_type": "display_data",
       "png": "[encoded data removed]",
       "text": [
        "<matplotlib.figure.Figure at 0xb31c7ac>"
       ]
      }
     ],
     "prompt_number": 257
    },
    {
     "cell_type": "markdown",
     "metadata": {
      "slideshow": {
       "slide_type": "subslide"
      }
     },
     "source": [
      "# Basemap: plotting wind field (saved image, the legend is not cropped)\n",
      "<img src=\"files/images/wind.jpeg\"/>"
     ]
    },
    {
     "cell_type": "markdown",
     "metadata": {
      "slideshow": {
       "slide_type": "subslide"
      }
     },
     "source": [
      "Exercises: Basemap\n",
      "====="
     ]
    },
    {
     "cell_type": "markdown",
     "metadata": {},
     "source": [
      "* Plot fields `preacc` and `air` from [here](http://scaweb.sca.uqam.ca/~huziy/example_data/wm201_Arctic_JJA_1990-2008_moyenneDesMoyennes.nc) using basemap. Add meridians and parallels as well as rivers to the map. Use subplots to put the plots side by side.\n",
      "\n",
      "\n",
      "* Plot field `preacc` from [here](http://scaweb.sca.uqam.ca/~huziy/example_data/pm1989010100_00000498p_0.44deg_africa_PR.nc)."
     ]
    },
    {
     "cell_type": "markdown",
     "metadata": {
      "slideshow": {
       "slide_type": "slide"
      }
     },
     "source": [
      "cKDTree\n",
      "======\n",
      "\n",
      "* Is a class defined in ```scipy.spatial``` package.\n",
      "\n",
      "\n",
      "* Alternatives: ```pyresample``` and ```basemap.interp```"
     ]
    },
    {
     "cell_type": "markdown",
     "metadata": {
      "slideshow": {
       "slide_type": "subslide"
      }
     },
     "source": [
      "cKDTree - workflow\n",
      "======\n",
      "\n",
      "##1. Convert all lat/lon coordinates to Cartesian coordinates\n",
      "<pre class=\"co\">\n",
      "    (xs, ys, zs) #correspond to coordinates of the source grid\n",
      "    (xt, yt, zt) #coordinates of the target grid\n",
      "    #All x,y,z - are flattened 1d arrays\n",
      "</pre>\n",
      "\n",
      "##2. Create a cKDTree object representing source grid\n",
      "<pre class=\"co\">\n",
      "    tree = cKDTree(data = zip(xs, ys, zs))\n",
      "</pre>\n"
     ]
    },
    {
     "cell_type": "markdown",
     "metadata": {
      "slideshow": {
       "slide_type": "subslide"
      }
     },
     "source": [
      "cKDTree - workflow\n",
      "======\n",
      "## 3. Query indices of the nearest target cells and distances to the corresponding source cells\n",
      "<pre class=\"co\"> \n",
      "    dists, inds = tree.query(zip(xt, yt, zt), k = 1)\n",
      "    #k = 1, means find 1 nearest point\n",
      "</pre>\n",
      "\n",
      "## 4. Get interpolated data (and reshape it to 2D)\n",
      "<pre class=\"co\">\n",
      "    data_target = data_source[inds].reshape(lon_target.shape)\n",
      "</pre>"
     ]
    },
    {
     "cell_type": "markdown",
     "metadata": {
      "slideshow": {
       "slide_type": "subslide"
      }
     },
     "source": [
      "cKDTree\n",
      "======\n",
      "\n",
      "* For an example usage of ```cKDTree```, please read my post at [earthpy.org](http://earthpy.org/interpolation_between_grids_with_ckdtree.html) \n",
      "\n",
      "\n",
      "* There is a folowup to that post about ```pyresample``` [here](http://earthpy.org/interpolation_between_grids_with_pyresample.html)."
     ]
    },
    {
     "cell_type": "markdown",
     "metadata": {
      "slideshow": {
       "slide_type": "subslide"
      }
     },
     "source": [
      "cKDTree: exercise\n",
      "======\n",
      "\n",
      "* Interpolate CRU temperatures to the model grid, use inverse distance weighting for intepolation from 20 nearest points.\n",
      "\n",
      "    $$\n",
      "    T_t = \\frac{\\sum_{i=1}^{20}w_i T_{s,i}}{\\sum_{i=1}^{20}w_i}\n",
      "    $$ \n",
      "\n",
      "    where $w_i = 1/d_i^2$, $d_i$ - is the distance between corresponding source and target grid points.\n",
      "    Grid longitudes and latitudes are defined in this [file](http://scaweb.sca.uqam.ca/~huziy/example_data/wind.nc). The observation temperature field is [here](http://scaweb.sca.uqam.ca/~huziy/example_data/mean_temp_cru.nc)."
     ]
    },
    {
     "cell_type": "markdown",
     "metadata": {
      "slideshow": {
       "slide_type": "slide"
      }
     },
     "source": [
      "Speeding up your code\n",
      "=====\n",
      "\n",
      "* Avoid loops and try to make use of Numpy/Scipy/Pandas functionality as much as possible\n",
      "\n",
      "\n",
      "* If you have a lot of computations the speedup can be achieved by delegating the computations to the NumExpr module.\n",
      "\n",
      "\n",
      "* You can use Cython to compile libraries to get C-like speed.\n",
      "\n",
      "\n",
      "* Use multiprocessing module if the tasks are fairly independent and cannot be solved using the above methods"
     ]
    },
    {
     "cell_type": "markdown",
     "metadata": {
      "slideshow": {
       "slide_type": "subslide"
      }
     },
     "source": [
      "Multiprocessing example\n",
      "===="
     ]
    },
    {
     "cell_type": "code",
     "collapsed": false,
     "input": [
      "from multiprocessing import Pool\n",
      "\n",
      "def func(x):\n",
      "    return x ** 2\n",
      "\n",
      "p1 = Pool(processes=1)\n",
      "p2 = Pool(processes=2)\n",
      "\n",
      "nums = np.arange(100000)"
     ],
     "language": "python",
     "metadata": {
      "slideshow": {
       "slide_type": "-"
      }
     },
     "outputs": [],
     "prompt_number": 258
    },
    {
     "cell_type": "markdown",
     "metadata": {
      "slideshow": {
       "slide_type": "subslide"
      }
     },
     "source": [
      "Make sure it works correctly\n",
      "----"
     ]
    },
    {
     "cell_type": "code",
     "collapsed": false,
     "input": [
      "print p2.map(func, nums)[:10]"
     ],
     "language": "python",
     "metadata": {},
     "outputs": [
      {
       "output_type": "stream",
       "stream": "stdout",
       "text": [
        "[0, 1, 4, 9, 16, 25, 36, 49, 64, 81]\n"
       ]
      }
     ],
     "prompt_number": 259
    },
    {
     "cell_type": "markdown",
     "metadata": {
      "slideshow": {
       "slide_type": "subslide"
      }
     },
     "source": [
      "Tests of performance gain by using 2 processes instead of 1\n",
      "----"
     ]
    },
    {
     "cell_type": "code",
     "collapsed": false,
     "input": [
      "%%timeit \n",
      "\n",
      "p1.map(func, nums)"
     ],
     "language": "python",
     "metadata": {
      "slideshow": {
       "slide_type": "-"
      }
     },
     "outputs": [
      {
       "output_type": "stream",
       "stream": "stdout",
       "text": [
        "1 loops, best of 3: 2.5 s per loop\n"
       ]
      }
     ],
     "prompt_number": 260
    },
    {
     "cell_type": "code",
     "collapsed": false,
     "input": [
      "%%timeit \n",
      "\n",
      "p2.map(func, nums)"
     ],
     "language": "python",
     "metadata": {
      "slideshow": {
       "slide_type": "-"
      }
     },
     "outputs": [
      {
       "output_type": "stream",
       "stream": "stdout",
       "text": [
        "1 loops, best of 3: 2.09 s per loop\n"
       ]
      }
     ],
     "prompt_number": 261
    },
    {
     "cell_type": "markdown",
     "metadata": {
      "slideshow": {
       "slide_type": "subslide"
      }
     },
     "source": [
      "Squaring example using Numpy\n",
      "==="
     ]
    },
    {
     "cell_type": "code",
     "collapsed": false,
     "input": [
      "%%timeit\n",
      "sq = np.asarray(nums) ** 2"
     ],
     "language": "python",
     "metadata": {
      "slideshow": {
       "slide_type": "-"
      }
     },
     "outputs": [
      {
       "output_type": "stream",
       "stream": "stdout",
       "text": [
        "1000 loops, best of 3: 273 \u00b5s per loop\n"
       ]
      }
     ],
     "prompt_number": 262
    },
    {
     "cell_type": "markdown",
     "metadata": {
      "slideshow": {
       "slide_type": "subslide"
      }
     },
     "source": [
      "Squaring example using NumExpr\n",
      "==="
     ]
    },
    {
     "cell_type": "code",
     "collapsed": false,
     "input": [
      "import numexpr as ne\n",
      "print ne.detect_number_of_cores()\n",
      "print ne.evaluate(\"nums ** 2\")[:5]"
     ],
     "language": "python",
     "metadata": {},
     "outputs": [
      {
       "output_type": "stream",
       "stream": "stdout",
       "text": [
        "1\n",
        "[ 0  1  4  9 16]\n"
       ]
      }
     ],
     "prompt_number": 263
    },
    {
     "cell_type": "code",
     "collapsed": false,
     "input": [
      "%%timeit\n",
      "ne.evaluate(\"nums ** 2\")"
     ],
     "language": "python",
     "metadata": {},
     "outputs": [
      {
       "output_type": "stream",
       "stream": "stdout",
       "text": [
        "1000 loops, best of 3: 215 \u00b5s per loop\n"
       ]
      }
     ],
     "prompt_number": 264
    },
    {
     "cell_type": "code",
     "collapsed": false,
     "input": [
      "ne.set_num_threads(1)"
     ],
     "language": "python",
     "metadata": {
      "slideshow": {
       "slide_type": "skip"
      }
     },
     "outputs": [
      {
       "metadata": {},
       "output_type": "pyout",
       "prompt_number": 265,
       "text": [
        "1"
       ]
      }
     ],
     "prompt_number": 265
    },
    {
     "cell_type": "code",
     "collapsed": false,
     "input": [
      "%%timeit\n",
      "ne.evaluate(\"nums**2\")"
     ],
     "language": "python",
     "metadata": {
      "slideshow": {
       "slide_type": "skip"
      }
     },
     "outputs": [
      {
       "output_type": "stream",
       "stream": "stdout",
       "text": [
        "1000 loops, best of 3: 205 \u00b5s per loop\n"
       ]
      }
     ],
     "prompt_number": 266
    },
    {
     "cell_type": "markdown",
     "metadata": {
      "slideshow": {
       "slide_type": "subslide"
      }
     },
     "source": [
      "Squaring example using cythonized function\n",
      "==="
     ]
    },
    {
     "cell_type": "code",
     "collapsed": false,
     "input": [
      "%load_ext cythonmagic"
     ],
     "language": "python",
     "metadata": {},
     "outputs": [
      {
       "output_type": "stream",
       "stream": "stdout",
       "text": [
        "The cythonmagic extension is already loaded. To reload it, use:\n",
        "  %reload_ext cythonmagic\n"
       ]
      }
     ],
     "prompt_number": 267
    },
    {
     "cell_type": "code",
     "collapsed": false,
     "input": [
      "%%cython\n",
      "def square_list(the_list):\n",
      "    result = []\n",
      "    cdef int i\n",
      "    for i in the_list:\n",
      "        result.append(i ** 2)\n",
      "    return result"
     ],
     "language": "python",
     "metadata": {},
     "outputs": [],
     "prompt_number": 268
    },
    {
     "cell_type": "code",
     "collapsed": false,
     "input": [
      "%%timeit\n",
      "square_list(nums)"
     ],
     "language": "python",
     "metadata": {
      "slideshow": {
       "slide_type": "fragment"
      }
     },
     "outputs": [
      {
       "output_type": "stream",
       "stream": "stdout",
       "text": [
        "1 loops, best of 3: 74.7 ms per loop\n"
       ]
      }
     ],
     "prompt_number": 269
    },
    {
     "cell_type": "markdown",
     "metadata": {
      "slideshow": {
       "slide_type": "slide"
      }
     },
     "source": [
      "Resources\n",
      "=========\n",
      "\n",
      "* Python: [http://www.python.org/](http://www.python.org/)\n",
      "\n",
      "\n",
      "* IPython: [http://ipython.org/](http://ipython.org/)\n",
      "\n",
      "\n",
      "* NumPy: [http://www.numpy.org/](http://www.numpy.org/) - there is a page NumPy for MATLAB users, might be useful for those familiar with MATLAB.\n",
      "\n",
      "\n",
      "* SciPy: [http://www.scipy.org/](http://www.scipy.org/)\n",
      "\n",
      "\n",
      "* Scientific python lectures: [http://scipy-lectures.github.io/](http://scipy-lectures.github.io/)\n",
      "\n",
      "\n",
      "* Matplotlib: [http://matplotlib.org/](http://matplotlib.org/)\n",
      "\n",
      "\n",
      "* Scitools (iris and cartopy): [http://scitools.org.uk/index.html](http://scitools.org.uk/index.html)"
     ]
    },
    {
     "cell_type": "markdown",
     "metadata": {
      "slideshow": {
       "slide_type": "subslide"
      }
     },
     "source": [
      "Resources\n",
      "=========\n",
      "\n",
      "* NetCDF4: [http://netcdf4-python.googlecode.com/svn/trunk/docs/netCDF4-module.html](http://netcdf4-python.googlecode.com/svn/trunk/docs/netCDF4-module.html)\n",
      "\n",
      "\n",
      "* Basemap: [http://matplotlib.org/basemap/](http://matplotlib.org/basemap/)\n",
      "\n",
      "\n",
      "* [Notebook on shape files](http://nbviewer.ipython.org/github/mqlaql/geospatial-data/blob/master/Geospatial-Data-with-Python.ipynb)\n",
      "\n",
      "\n",
      "* My favourite python IDE: [Pycharm](http://www.jetbrains.com/pycharm/), you might also checkout many other like Eclipse, Netbeans, Spyder...\n",
      "\n",
      "\n",
      "* On creating presentations using IPython and a lot of other things: [Damian Avilla's blog](http://www.damian.oquanta.info/index.html)."
     ]
    },
    {
     "cell_type": "code",
     "collapsed": false,
     "input": [],
     "language": "python",
     "metadata": {},
     "outputs": []
    }
   ],
   "metadata": {}
  }
 ]
}